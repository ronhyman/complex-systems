{
 "cells": [
  {
   "cell_type": "code",
   "execution_count": 62,
   "metadata": {},
   "outputs": [],
   "source": [
    "# Problem 8.10: Numerical/Computational—Spatial Models\n",
    "# We would like to implement a the forest-fire model. At each point in time, each cell can be one of three states: { tree, burning, ash }.\n",
    "\n",
    "# define states for the cells\n",
    "tree = 0\n",
    "burning = 1\n",
    "ash = 2\n",
    "\n",
    "# define the size of the grid\n",
    "n = 200\n",
    "\n",
    "p = 0.01\n",
    "f = 0.0001\n",
    "\n",
    "import numpy as np\n",
    "import matplotlib.pyplot as plt\n",
    "import random\n",
    "\n",
    "# Function to update the grid\n",
    "def update_grid(Z, p, f):\n",
    "    # Create a new grid to store the updated values\n",
    "    Z_new = np.zeros((n, n))\n",
    "    # Loop through each cell in the grid\n",
    "    for i in range(n):\n",
    "        for j in range(n):\n",
    "            # If the cell is a tree and is next to a burning cell, it becomes burning\n",
    "            if Z[i, j] == tree:\n",
    "                if i > 0 and Z[i - 1, j] == burning:\n",
    "                    Z_new[i, j] = burning\n",
    "                elif i < n - 1 and Z[i + 1, j] == burning:\n",
    "                    Z_new[i, j] = burning\n",
    "                elif j > 0 and Z[i, j - 1] == burning:\n",
    "                    Z_new[i, j] = burning\n",
    "                elif j < n - 1 and Z[i, j + 1] == burning:\n",
    "                    Z_new[i, j] = burning\n",
    "                else:\n",
    "                    if random.random() < f:\n",
    "                        Z_new[i, j] = burning\n",
    "            # If the cell is burning, it becomes ash\n",
    "            elif Z[i, j] == burning:\n",
    "                Z_new[i, j] = ash\n",
    "            # If the cell is ash, it becomes a tree with probability p\n",
    "            elif Z[i, j] == ash:\n",
    "                if random.random() < p:\n",
    "                    Z_new[i, j] = tree\n",
    "                else:\n",
    "                    Z_new[i, j] = ash\n",
    "    return Z_new"
   ]
  },
  {
   "cell_type": "code",
   "execution_count": 64,
   "metadata": {},
   "outputs": [
    {
     "name": "stderr",
     "output_type": "stream",
     "text": [
      "/var/folders/j4/lhlw9vy94dj320jbdphcvs100000gq/T/ipykernel_79857/306695130.py:27: DeprecationWarning: Starting with ImageIO v3 the behavior of this function will switch to that of iio.v3.imread. To keep the current behavior (and make this warning disappear) use `import imageio.v2 as imageio` or call `imageio.v2.imread` directly.\n",
      "  writer.append_data(imageio.imread(image))\n"
     ]
    }
   ],
   "source": [
    "# Setting up the simulation\n",
    "Z = np.zeros((n, n))\n",
    "Z.fill(ash)\n",
    "\n",
    "# Let's save a GIF of the simulation\n",
    "images = []\n",
    "\n",
    "f_values = [0.0001, 0.001, 0.01]\n",
    "# Run the simulation\n",
    "for f_val in f_values:\n",
    "    # Run the simulation\n",
    "    for i in range(400):\n",
    "        Z = update_grid(Z, p, f_val)\n",
    "        # Save grid as image for GIF\n",
    "        if i%1 == 0:\n",
    "            plt.imshow(Z, cmap='bwr', interpolation='nearest')\n",
    "            plt.title('Blue: Tree, Red: Burning, White: Ash')\n",
    "            # Label the color bar with state names\n",
    "            plt.colorbar( ticks=[0, 1, 2])\n",
    "            plt.savefig(f'imgs/forest_fire_{f_val}_{i}.png')\n",
    "            images.append(f'imgs/forest_fire_{f_val}_{i}.png')\n",
    "            plt.close()\n",
    "\n",
    "    # Save a .gif using the images we saved (forest_fire_{}.png)\n",
    "    with imageio.get_writer(f'forest_fire{f_val}.gif', mode='I') as writer:\n",
    "        for image in images:\n",
    "            writer.append_data(imageio.imread(image))\n",
    "\n",
    "    # Reset the grid to ash\n",
    "    Z.fill(ash)\n",
    "\n"
   ]
  }
 ],
 "metadata": {
  "kernelspec": {
   "display_name": ".venv",
   "language": "python",
   "name": "python3"
  },
  "language_info": {
   "codemirror_mode": {
    "name": "ipython",
    "version": 3
   },
   "file_extension": ".py",
   "mimetype": "text/x-python",
   "name": "python",
   "nbconvert_exporter": "python",
   "pygments_lexer": "ipython3",
   "version": "3.11.2"
  }
 },
 "nbformat": 4,
 "nbformat_minor": 2
}
